{
 "cells": [
  {
   "cell_type": "code",
   "execution_count": 1,
   "id": "8c8cd3f7",
   "metadata": {},
   "outputs": [
    {
     "name": "stdout",
     "output_type": "stream",
     "text": [
      " Volume in drive E is DataScience\n",
      " Volume Serial Number is A87A-B175\n",
      "\n",
      " Directory of e:\\CourseWork\\Springboard\n",
      "\n",
      "02/26/2023  04:59 PM    <DIR>          .\n",
      "02/26/2023  04:59 PM    <DIR>          ..\n",
      "02/26/2023  05:20 PM    <DIR>          .ipynb_checkpoints\n",
      "02/26/2023  05:21 PM               589 file.ipynb\n",
      "02/26/2023  04:59 PM                13 README.md\n",
      "02/26/2023  05:21 PM                72 Untitled.ipynb\n",
      "               3 File(s)            674 bytes\n",
      "               3 Dir(s)  460,938,805,248 bytes free\n"
     ]
    }
   ],
   "source": [
    "ls"
   ]
  },
  {
   "cell_type": "code",
   "execution_count": 2,
   "id": "009e4dfa",
   "metadata": {},
   "outputs": [
    {
     "ename": "SyntaxError",
     "evalue": "invalid syntax (2060996463.py, line 1)",
     "output_type": "error",
     "traceback": [
      "\u001b[1;36m  Cell \u001b[1;32mIn[2], line 1\u001b[1;36m\u001b[0m\n\u001b[1;33m    git show\u001b[0m\n\u001b[1;37m        ^\u001b[0m\n\u001b[1;31mSyntaxError\u001b[0m\u001b[1;31m:\u001b[0m invalid syntax\n"
     ]
    }
   ],
   "source": [
    "git show"
   ]
  },
  {
   "cell_type": "code",
   "execution_count": 3,
   "id": "c0587918",
   "metadata": {},
   "outputs": [
    {
     "ename": "NameError",
     "evalue": "name 'bash' is not defined",
     "output_type": "error",
     "traceback": [
      "\u001b[1;31m---------------------------------------------------------------------------\u001b[0m",
      "\u001b[1;31mNameError\u001b[0m                                 Traceback (most recent call last)",
      "Cell \u001b[1;32mIn[3], line 1\u001b[0m\n\u001b[1;32m----> 1\u001b[0m bash\n",
      "\u001b[1;31mNameError\u001b[0m: name 'bash' is not defined"
     ]
    }
   ],
   "source": [
    "bash"
   ]
  },
  {
   "cell_type": "code",
   "execution_count": null,
   "id": "ca298804",
   "metadata": {},
   "outputs": [],
   "source": []
  }
 ],
 "metadata": {
  "kernelspec": {
   "display_name": "Python 3",
   "language": "python",
   "name": "python3"
  },
  "language_info": {
   "codemirror_mode": {
    "name": "ipython",
    "version": 3
   },
   "file_extension": ".py",
   "mimetype": "text/x-python",
   "name": "python",
   "nbconvert_exporter": "python",
   "pygments_lexer": "ipython3",
   "version": "3.11.2"
  },
  "vscode": {
   "interpreter": {
    "hash": "6b6241ecb2a93688ed27942c8a9bc386abb48806b982db97da35573938f24e75"
   }
  }
 },
 "nbformat": 4,
 "nbformat_minor": 5
}
